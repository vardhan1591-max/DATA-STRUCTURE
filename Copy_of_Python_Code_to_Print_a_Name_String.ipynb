{
  "cells": [
    {
      "cell_type": "markdown",
      "metadata": {
        "id": "view-in-github",
        "colab_type": "text"
      },
      "source": [
        "<a href=\"https://colab.research.google.com/github/vardhan1591-max/DATA-STRUCTURE/blob/main/Copy_of_Python_Code_to_Print_a_Name_String.ipynb\" target=\"_parent\"><img src=\"https://colab.research.google.com/assets/colab-badge.svg\" alt=\"Open In Colab\"/></a>"
      ]
    },
    {
      "cell_type": "markdown",
      "source": [],
      "metadata": {
        "id": "1NFb6HqomRXQ"
      }
    },
    {
      "cell_type": "markdown",
      "source": [
        "Q1. Write a code to create a string with your name and print it."
      ],
      "metadata": {
        "id": "Y9B2ecoZm6Wv"
      }
    },
    {
      "cell_type": "code",
      "metadata": {
        "colab": {
          "base_uri": "https://localhost:8080/"
        },
        "id": "66f951e2",
        "outputId": "ee5bea88-c173-460c-fe27-0a50df495dd2"
      },
      "source": [
        "name = \"Nishu\"\n",
        "print(name)"
      ],
      "execution_count": null,
      "outputs": [
        {
          "output_type": "stream",
          "name": "stdout",
          "text": [
            "Nishu\n"
          ]
        }
      ]
    },
    {
      "cell_type": "markdown",
      "source": [
        "Q2. Write a code to find the length of the string \"Hello World\".\n"
      ],
      "metadata": {
        "id": "RDq--Ah3moNE"
      }
    },
    {
      "cell_type": "code",
      "metadata": {
        "colab": {
          "base_uri": "https://localhost:8080/"
        },
        "id": "3139ec8f",
        "outputId": "58f0e5db-d033-4887-ac76-cf9b3190f5c9"
      },
      "source": [
        "text = \"Hello World\"\n",
        "length = len(text)\n",
        "print(length)"
      ],
      "execution_count": null,
      "outputs": [
        {
          "output_type": "stream",
          "name": "stdout",
          "text": [
            "11\n"
          ]
        }
      ]
    },
    {
      "cell_type": "markdown",
      "source": [
        "Q3. Write a code to slice the first 3 characters from the string \"Python Programming\".\n"
      ],
      "metadata": {
        "id": "mvn9AByenGTw"
      }
    },
    {
      "cell_type": "code",
      "metadata": {
        "colab": {
          "base_uri": "https://localhost:8080/"
        },
        "id": "7e337b0a",
        "outputId": "c3628c7d-622b-4847-964a-9a386c372103"
      },
      "source": [
        "text = \"Python Programming\"\n",
        "sliced_text = text[:3]\n",
        "print(sliced_text)"
      ],
      "execution_count": null,
      "outputs": [
        {
          "output_type": "stream",
          "name": "stdout",
          "text": [
            "Pyt\n"
          ]
        }
      ]
    },
    {
      "cell_type": "markdown",
      "source": [
        "Q4. Write a code to convert the string \"hello\" to uppercase.\n"
      ],
      "metadata": {
        "id": "peO4jLDfnWuR"
      }
    },
    {
      "cell_type": "code",
      "metadata": {
        "colab": {
          "base_uri": "https://localhost:8080/"
        },
        "id": "cebd3edd",
        "outputId": "c088f222-14ce-4009-8ac5-16c0007730ba"
      },
      "source": [
        "text = \"hello\"\n",
        "uppercase_text = text.upper()\n",
        "print(uppercase_text)"
      ],
      "execution_count": null,
      "outputs": [
        {
          "output_type": "stream",
          "name": "stdout",
          "text": [
            "HELLO\n"
          ]
        }
      ]
    },
    {
      "cell_type": "markdown",
      "source": [
        "Q5. Write a code to replace the word \"apple\" with \"orange\" in the string \"I like apple\"."
      ],
      "metadata": {
        "id": "1SHaIGggnhPr"
      }
    },
    {
      "cell_type": "code",
      "metadata": {
        "colab": {
          "base_uri": "https://localhost:8080/"
        },
        "id": "fbcd3f75",
        "outputId": "712a551d-25bb-48f6-8869-7dfe0284d455"
      },
      "source": [
        "text = \"I like apple\"\n",
        "new_text = text.replace(\"apple\", \"orange\")\n",
        "print(new_text)"
      ],
      "execution_count": null,
      "outputs": [
        {
          "output_type": "stream",
          "name": "stdout",
          "text": [
            "I like orange\n"
          ]
        }
      ]
    },
    {
      "cell_type": "markdown",
      "source": [
        "Q6. Write a code to create a list with numbers 1 to 5 and print it.\n"
      ],
      "metadata": {
        "id": "42Uzn1tDn2xA"
      }
    },
    {
      "cell_type": "code",
      "metadata": {
        "colab": {
          "base_uri": "https://localhost:8080/"
        },
        "id": "02b61f82",
        "outputId": "cd341082-4c3c-4476-d3c1-0ddad011faf0"
      },
      "source": [
        "numbers = [1, 2, 3, 4, 5]\n",
        "print(numbers)"
      ],
      "execution_count": null,
      "outputs": [
        {
          "output_type": "stream",
          "name": "stdout",
          "text": [
            "[1, 2, 3, 4, 5]\n"
          ]
        }
      ]
    },
    {
      "cell_type": "markdown",
      "source": [
        "Q7. Write a code to append the number 10 to the list [1, 2, 3, 4)"
      ],
      "metadata": {
        "id": "YYbxiR8DoChe"
      }
    },
    {
      "cell_type": "code",
      "metadata": {
        "colab": {
          "base_uri": "https://localhost:8080/"
        },
        "id": "b9b3510f",
        "outputId": "5b356d8a-ee86-4d02-d613-82446c32f0e7"
      },
      "source": [
        "my_list = [1, 2, 3, 4]\n",
        "my_list.append(10)\n",
        "print(my_list)"
      ],
      "execution_count": null,
      "outputs": [
        {
          "output_type": "stream",
          "name": "stdout",
          "text": [
            "[1, 2, 3, 4, 10]\n"
          ]
        }
      ]
    },
    {
      "cell_type": "markdown",
      "source": [
        "Q8. Write a code to remove the number 3 from the list [1, 2, 3, 4, 5].\n"
      ],
      "metadata": {
        "id": "AmwR36bRoOOl"
      }
    },
    {
      "cell_type": "code",
      "metadata": {
        "colab": {
          "base_uri": "https://localhost:8080/"
        },
        "id": "c1e9c159",
        "outputId": "3b209de1-55cb-4aee-b05e-b0650e02aee2"
      },
      "source": [
        "my_list = [1, 2, 3, 4, 5]\n",
        "my_list.remove(3)\n",
        "print(my_list)"
      ],
      "execution_count": null,
      "outputs": [
        {
          "output_type": "stream",
          "name": "stdout",
          "text": [
            "[1, 2, 4, 5]\n"
          ]
        }
      ]
    },
    {
      "cell_type": "markdown",
      "source": [
        "Q9. Write a code to access the second element in the list la, b, c, d).\n"
      ],
      "metadata": {
        "id": "-XSgL5lAoXDg"
      }
    },
    {
      "cell_type": "code",
      "metadata": {
        "colab": {
          "base_uri": "https://localhost:8080/"
        },
        "id": "e8ee97bc",
        "outputId": "762a2d5d-484c-4ae0-d472-5174a29aaacc"
      },
      "source": [
        "my_list = ['a', 'b', 'c', 'd']\n",
        "second_element = my_list[1]\n",
        "print(second_element)"
      ],
      "execution_count": null,
      "outputs": [
        {
          "output_type": "stream",
          "name": "stdout",
          "text": [
            "b\n"
          ]
        }
      ]
    },
    {
      "cell_type": "markdown",
      "source": [
        "Q 10. Write a code to reverse the list [10, 20, 30, 40, 50]."
      ],
      "metadata": {
        "id": "6E5E6oTDoecJ"
      }
    },
    {
      "cell_type": "code",
      "metadata": {
        "colab": {
          "base_uri": "https://localhost:8080/"
        },
        "id": "6233f9e4",
        "outputId": "9e9a588d-d2c6-4dab-c067-87375cc1083a"
      },
      "source": [
        "my_list = [10, 20, 30, 40, 50]\n",
        "my_list.reverse()\n",
        "print(my_list)"
      ],
      "execution_count": null,
      "outputs": [
        {
          "output_type": "stream",
          "name": "stdout",
          "text": [
            "[50, 40, 30, 20, 10]\n"
          ]
        }
      ]
    },
    {
      "cell_type": "markdown",
      "source": [
        "Q11. Write a code to create a tuple with the elements 100, 200, 300 and print it.\n"
      ],
      "metadata": {
        "id": "HPrnZV0TqCxi"
      }
    },
    {
      "cell_type": "code",
      "metadata": {
        "colab": {
          "base_uri": "https://localhost:8080/"
        },
        "id": "87db0259",
        "outputId": "7c094ce6-68c2-4c3e-f33a-f2c011819966"
      },
      "source": [
        "my_tuple = (100, 200, 300)\n",
        "print(my_tuple)"
      ],
      "execution_count": null,
      "outputs": [
        {
          "output_type": "stream",
          "name": "stdout",
          "text": [
            "(100, 200, 300)\n"
          ]
        }
      ]
    },
    {
      "cell_type": "markdown",
      "source": [
        "Q12. Write a code to access the second-to-last element of the tuple (red, green, blue, yellow).\n"
      ],
      "metadata": {
        "id": "ornMB6SSqdnG"
      }
    },
    {
      "cell_type": "code",
      "metadata": {
        "colab": {
          "base_uri": "https://localhost:8080/"
        },
        "id": "b8119f65",
        "outputId": "f9ee5399-3219-44b4-b0ea-ca5d823879d6"
      },
      "source": [
        "my_tuple = ('red', 'green', 'blue', 'yellow')\n",
        "second_to_last_element = my_tuple[-2]\n",
        "print(second_to_last_element)"
      ],
      "execution_count": null,
      "outputs": [
        {
          "output_type": "stream",
          "name": "stdout",
          "text": [
            "blue\n"
          ]
        }
      ]
    },
    {
      "cell_type": "markdown",
      "source": [
        "Q13. Write a code to find the minimum number in the tuple (10, 20, 5, 15).\n"
      ],
      "metadata": {
        "id": "1e53tnG-qrTn"
      }
    },
    {
      "cell_type": "code",
      "metadata": {
        "colab": {
          "base_uri": "https://localhost:8080/"
        },
        "id": "0c03a85e",
        "outputId": "c016b04c-2ba8-4919-89da-d4c7106172a0"
      },
      "source": [
        "my_tuple = (10, 20, 5, 15)\n",
        "minimum_number = min(my_tuple)\n",
        "print(minimum_number)"
      ],
      "execution_count": null,
      "outputs": [
        {
          "output_type": "stream",
          "name": "stdout",
          "text": [
            "5\n"
          ]
        }
      ]
    },
    {
      "cell_type": "markdown",
      "source": [
        "Q14. Write a code to find the index of the element \"cat\" in the tuple (dog, cat, rabbit).\n"
      ],
      "metadata": {
        "id": "Zsh2Eaf8q5ZU"
      }
    },
    {
      "cell_type": "code",
      "metadata": {
        "colab": {
          "base_uri": "https://localhost:8080/"
        },
        "id": "e7e0cd1a",
        "outputId": "6447ee22-f370-49a1-9a23-23a0ea61268d"
      },
      "source": [
        "my_tuple = (\"dog\", \"cat\", \"rabbit\")\n",
        "index_of_cat = my_tuple.index(\"cat\")\n",
        "print(index_of_cat)"
      ],
      "execution_count": null,
      "outputs": [
        {
          "output_type": "stream",
          "name": "stdout",
          "text": [
            "1\n"
          ]
        }
      ]
    },
    {
      "cell_type": "markdown",
      "source": [
        "Q15. Write a code to create a tuple containing three different fruits and check if \"kiwi\" is in it.\n"
      ],
      "metadata": {
        "id": "5wyaWddRrKlh"
      }
    },
    {
      "cell_type": "code",
      "metadata": {
        "colab": {
          "base_uri": "https://localhost:8080/"
        },
        "id": "047f7087",
        "outputId": "cf6ff89f-3ced-4a1a-a7db-4b6213d36967"
      },
      "source": [
        "fruits_tuple = (\"apple\", \"banana\", \"orange\")\n",
        "if \"kiwi\" in fruits_tuple:\n",
        "  print(\"Kiwi is in the tuple.\")\n",
        "else:\n",
        "  print(\"Kiwi is not in the tuple.\")"
      ],
      "execution_count": null,
      "outputs": [
        {
          "output_type": "stream",
          "name": "stdout",
          "text": [
            "Kiwi is not in the tuple.\n"
          ]
        }
      ]
    },
    {
      "cell_type": "markdown",
      "source": [
        "Q16. Write a code to create a set with the elements 'a', 'b', 'c' and print it.\n"
      ],
      "metadata": {
        "id": "5oSfE9h2rWBN"
      }
    },
    {
      "cell_type": "code",
      "metadata": {
        "colab": {
          "base_uri": "https://localhost:8080/"
        },
        "id": "46e10c7e",
        "outputId": "7e29730f-f863-4cc8-cdff-3f2ad51a46ef"
      },
      "source": [
        "my_set = {'a', 'b', 'c'}\n",
        "print(my_set)"
      ],
      "execution_count": null,
      "outputs": [
        {
          "output_type": "stream",
          "name": "stdout",
          "text": [
            "{'b', 'a', 'c'}\n"
          ]
        }
      ]
    },
    {
      "cell_type": "markdown",
      "source": [
        "Q17. Write a code to clear all elements from the set {1, 2, 3, 4, 5}.\n"
      ],
      "metadata": {
        "id": "ismt_195rngw"
      }
    },
    {
      "cell_type": "code",
      "metadata": {
        "colab": {
          "base_uri": "https://localhost:8080/"
        },
        "id": "aaeade34",
        "outputId": "ae4d798c-e668-4929-f3fc-704a34e369d2"
      },
      "source": [
        "my_set = {1, 2, 3, 4, 5}\n",
        "my_set.clear()\n",
        "print(my_set)"
      ],
      "execution_count": null,
      "outputs": [
        {
          "output_type": "stream",
          "name": "stdout",
          "text": [
            "set()\n"
          ]
        }
      ]
    },
    {
      "cell_type": "markdown",
      "source": [
        "Q18. Write a code to remove the element 4 from the set (1, 2, 3, 4}.\n"
      ],
      "metadata": {
        "id": "acEEgqAFrzzm"
      }
    },
    {
      "cell_type": "code",
      "metadata": {
        "colab": {
          "base_uri": "https://localhost:8080/"
        },
        "id": "0e7748f0",
        "outputId": "74c2edee-3f4a-4832-b1f8-dabaaab67bb7"
      },
      "source": [
        "my_set = {1, 2, 3, 4}\n",
        "my_set.remove(4)\n",
        "print(my_set)"
      ],
      "execution_count": null,
      "outputs": [
        {
          "output_type": "stream",
          "name": "stdout",
          "text": [
            "{1, 2, 3}\n"
          ]
        }
      ]
    },
    {
      "cell_type": "markdown",
      "source": [
        "Q19. Write a code to find the union of two sets {1, 2, 3} and (3, 4, 5}.\n"
      ],
      "metadata": {
        "id": "W_l27fDksVHC"
      }
    },
    {
      "cell_type": "code",
      "metadata": {
        "colab": {
          "base_uri": "https://localhost:8080/"
        },
        "id": "83659631",
        "outputId": "f4a81c20-19bd-48c5-a3f7-12f5f982c057"
      },
      "source": [
        "set1 = {1, 2, 3}\n",
        "set2 = {3, 4, 5}\n",
        "union_set = set1.union(set2)\n",
        "print(union_set)"
      ],
      "execution_count": null,
      "outputs": [
        {
          "output_type": "stream",
          "name": "stdout",
          "text": [
            "{1, 2, 3, 4, 5}\n"
          ]
        }
      ]
    },
    {
      "cell_type": "markdown",
      "source": [
        "Q20. Write a code to find the intersection of two sets {1, 2, 3) and {2, 3, 4}.\n"
      ],
      "metadata": {
        "id": "K--HRyzCsoxx"
      }
    },
    {
      "cell_type": "code",
      "metadata": {
        "colab": {
          "base_uri": "https://localhost:8080/"
        },
        "id": "096179a4",
        "outputId": "02441c2d-a466-4494-f341-624c5f63abec"
      },
      "source": [
        "set1 = {1, 2, 3}\n",
        "set2 = {2, 3, 4}\n",
        "intersection_set = set1.intersection(set2)\n",
        "print(intersection_set)"
      ],
      "execution_count": null,
      "outputs": [
        {
          "output_type": "stream",
          "name": "stdout",
          "text": [
            "{2, 3}\n"
          ]
        }
      ]
    },
    {
      "cell_type": "markdown",
      "source": [
        "Q21. Write a code to create a dictionary with the keys \"name\", \"age\", and \"city\", and print it"
      ],
      "metadata": {
        "id": "MxV4kjyls2dR"
      }
    },
    {
      "cell_type": "code",
      "metadata": {
        "colab": {
          "base_uri": "https://localhost:8080/"
        },
        "id": "021be106",
        "outputId": "f336a0ab-390e-4b90-dec4-747e43c3db2a"
      },
      "source": [
        "my_dict = {\"name\": \"Nishu\", \"age\": \"22\", \"city\": \"Patna\"}\n",
        "print(my_dict)"
      ],
      "execution_count": null,
      "outputs": [
        {
          "output_type": "stream",
          "name": "stdout",
          "text": [
            "{'name': 'Nishu', 'age': '22', 'city': 'Patna'}\n"
          ]
        }
      ]
    },
    {
      "cell_type": "markdown",
      "source": [
        "Q22. Write a code to add a new key-value pair \"country\": \"USA\" to the dictionary {'name: John, age: 25}.\n"
      ],
      "metadata": {
        "id": "m11TxMuFt9cV"
      }
    },
    {
      "cell_type": "code",
      "metadata": {
        "colab": {
          "base_uri": "https://localhost:8080/"
        },
        "id": "c4e7a0b5",
        "outputId": "68e60b05-4f92-4081-939c-872090e98c13"
      },
      "source": [
        "my_dict = {'name': 'John', 'age': 25}\n",
        "my_dict[\"country\"] = \"USA\"\n",
        "print(my_dict)"
      ],
      "execution_count": null,
      "outputs": [
        {
          "output_type": "stream",
          "name": "stdout",
          "text": [
            "{'name': 'John', 'age': 25, 'country': 'USA'}\n"
          ]
        }
      ]
    },
    {
      "cell_type": "markdown",
      "source": [
        "Q23. Write a code to access the value associated with the key \"name\" in the dictionary {name: Alice, age: 30}\n"
      ],
      "metadata": {
        "id": "nRnWJBjBuQNc"
      }
    },
    {
      "cell_type": "code",
      "metadata": {
        "colab": {
          "base_uri": "https://localhost:8080/"
        },
        "id": "4834cf4a",
        "outputId": "2f558b18-5ab0-476c-aafd-c988f23ea295"
      },
      "source": [
        "my_dict = {'name': 'Alice', 'age': 30}\n",
        "name_value = my_dict[\"name\"]\n",
        "print(name_value)"
      ],
      "execution_count": null,
      "outputs": [
        {
          "output_type": "stream",
          "name": "stdout",
          "text": [
            "Alice\n"
          ]
        }
      ]
    },
    {
      "cell_type": "markdown",
      "source": [
        "Q24. Write a code to remove the key \"age\" from the dictionary {name: 'Bob', 'age: 22, 'city: New York}"
      ],
      "metadata": {
        "id": "UjWqxE6Fuhka"
      }
    },
    {
      "cell_type": "code",
      "metadata": {
        "colab": {
          "base_uri": "https://localhost:8080/"
        },
        "id": "6f9b53d5",
        "outputId": "7c768c6c-7bc5-4e7f-9372-12c5c14ea6c0"
      },
      "source": [
        "my_dict = {'name': 'Bob', 'age': 22, 'city': 'New York'}\n",
        "del my_dict[\"age\"]\n",
        "print(my_dict)"
      ],
      "execution_count": null,
      "outputs": [
        {
          "output_type": "stream",
          "name": "stdout",
          "text": [
            "{'name': 'Bob', 'city': 'New York'}\n"
          ]
        }
      ]
    },
    {
      "cell_type": "markdown",
      "source": [
        "Q25. Write a code to check if the key \"city\" exists in the dictionary (name: Alice, city: Paris).\n"
      ],
      "metadata": {
        "id": "F3IwXhvDu3ZF"
      }
    },
    {
      "cell_type": "code",
      "metadata": {
        "colab": {
          "base_uri": "https://localhost:8080/"
        },
        "id": "7e1b61cb",
        "outputId": "e0472533-a5d7-4682-dbfd-86e5848e3bb3"
      },
      "source": [
        "my_dict = {'name': 'Alice', 'city': 'Paris'}\n",
        "if \"city\" in my_dict:\n",
        "  print(\"The key 'city' exists in the dictionary.\")\n",
        "else:\n",
        "  print(\"The key 'city' does not exist in the dictionary.\")"
      ],
      "execution_count": null,
      "outputs": [
        {
          "output_type": "stream",
          "name": "stdout",
          "text": [
            "The key 'city' exists in the dictionary.\n"
          ]
        }
      ]
    },
    {
      "cell_type": "markdown",
      "source": [
        "Q26. Write a code to create a list, a tuple, and a dictionary, and print them all.\n"
      ],
      "metadata": {
        "id": "URnt1_TPvL6U"
      }
    },
    {
      "cell_type": "code",
      "metadata": {
        "colab": {
          "base_uri": "https://localhost:8080/"
        },
        "id": "a19e7fad",
        "outputId": "2180cfec-e3c5-4c16-c633-dba93bc25ac0"
      },
      "source": [
        "my_list = [1, 2, 3]\n",
        "my_tuple = (4, 5, 6)\n",
        "my_dict = {\"a\": 7, \"b\": 8}\n",
        "\n",
        "print(\"My List:\", my_list)\n",
        "print(\"My Tuple:\", my_tuple)\n",
        "print(\"My Dictionary:\", my_dict)"
      ],
      "execution_count": null,
      "outputs": [
        {
          "output_type": "stream",
          "name": "stdout",
          "text": [
            "My List: [1, 2, 3]\n",
            "My Tuple: (4, 5, 6)\n",
            "My Dictionary: {'a': 7, 'b': 8}\n"
          ]
        }
      ]
    },
    {
      "cell_type": "markdown",
      "source": [
        "Q27. Write a code to create a list of 5 random numbers between 1 and 100, sort it in ascending order, and print the result.(replaced)\n"
      ],
      "metadata": {
        "id": "leKjiXQivd-A"
      }
    },
    {
      "cell_type": "code",
      "metadata": {
        "colab": {
          "base_uri": "https://localhost:8080/"
        },
        "id": "383ca832",
        "outputId": "0f40bc38-865c-499d-becb-333be14cfd21"
      },
      "source": [
        "import random\n",
        "\n",
        "# Create a list of 5 random numbers between 1 and 100\n",
        "random_numbers = [random.randint(1, 100) for _ in range(5)]\n",
        "\n",
        "print(\"Original list:\", random_numbers)\n",
        "\n",
        "# Sort the list in ascending order\n",
        "random_numbers.sort()\n",
        "\n",
        "print(\"Sorted list:\", random_numbers)"
      ],
      "execution_count": null,
      "outputs": [
        {
          "output_type": "stream",
          "name": "stdout",
          "text": [
            "Original list: [59, 72, 63, 69, 41]\n",
            "Sorted list: [41, 59, 63, 69, 72]\n"
          ]
        }
      ]
    },
    {
      "cell_type": "markdown",
      "source": [
        "Q28. Write a code to create a list with strings and print the element at the third index.\n"
      ],
      "metadata": {
        "id": "-NHG_Tt5vqpp"
      }
    },
    {
      "cell_type": "code",
      "metadata": {
        "colab": {
          "base_uri": "https://localhost:8080/"
        },
        "id": "deb8a88e",
        "outputId": "8447fe61-d1a5-4245-86f1-64f1cd440b54"
      },
      "source": [
        "my_list = [\"apple\", \"banana\", \"cherry\", \"date\", \"elderberry\"]\n",
        "third_element = my_list[2] # Remember that list indices start at 0\n",
        "print(third_element)"
      ],
      "execution_count": null,
      "outputs": [
        {
          "output_type": "stream",
          "name": "stdout",
          "text": [
            "cherry\n"
          ]
        }
      ]
    },
    {
      "cell_type": "markdown",
      "source": [
        "Q29. Write a code to combine two dictionaries into one and print the result.\n"
      ],
      "metadata": {
        "id": "NuNQayytv2Og"
      }
    },
    {
      "cell_type": "code",
      "metadata": {
        "colab": {
          "base_uri": "https://localhost:8080/"
        },
        "id": "bf591abc",
        "outputId": "dfbbaace-7df6-4718-8291-2d825a660e61"
      },
      "source": [
        "dict1 = {\"a\": 1, \"b\": 2}\n",
        "dict2 = {\"c\": 3, \"d\": 4}\n",
        "\n",
        "combined_dict = dict1.copy() # Start with a copy of the first dictionary\n",
        "combined_dict.update(dict2) # Update it with the second dictionary\n",
        "\n",
        "print(combined_dict)"
      ],
      "execution_count": null,
      "outputs": [
        {
          "output_type": "stream",
          "name": "stdout",
          "text": [
            "{'a': 1, 'b': 2, 'c': 3, 'd': 4}\n"
          ]
        }
      ]
    },
    {
      "cell_type": "markdown",
      "source": [
        "Q30. Write a code to convert a list of strings into a set."
      ],
      "metadata": {
        "id": "CuzYxSbfwFcw"
      }
    },
    {
      "cell_type": "code",
      "metadata": {
        "colab": {
          "base_uri": "https://localhost:8080/"
        },
        "id": "e2144655",
        "outputId": "9cb08e18-57b0-4139-ace7-63c0854f4b47"
      },
      "source": [
        "list_of_strings = [\"apple\", \"banana\", \"cherry\", \"apple\", \"date\"]\n",
        "set_of_strings = set(list_of_strings)\n",
        "print(set_of_strings)"
      ],
      "execution_count": null,
      "outputs": [
        {
          "output_type": "stream",
          "name": "stdout",
          "text": [
            "{'date', 'apple', 'cherry', 'banana'}\n"
          ]
        }
      ]
    },
    {
      "cell_type": "markdown",
      "source": [
        "THEORY QUESTION"
      ],
      "metadata": {
        "id": "ovaH6Mmfwn8X"
      }
    },
    {
      "cell_type": "markdown",
      "source": [
        "Q1. What are data structures, and why are they important?\n",
        "\n",
        "ANS:-Data structures are ways of organizing and storing data in a computer so that it can be accessed and modified efficiently. Think of them as containers that hold data in a specific arrangement.\n",
        "\n",
        "Why are they important?\n",
        "\n",
        "*Efficiency: Different data structures are optimized for different operations. Choosing the right data structure can significantly improve the performance of your program, making it faster and use less memory. For example, searching for an element is much faster in a set than in a list.\n",
        "\n",
        "*Organization: They provide a way to organize data logically, making your code easier to understand, write, and maintain.\n",
        "\n",
        "*Abstraction: Data structures provide a level of abstraction. You can use a data structure without knowing the low-level details of how it's implemented."
      ],
      "metadata": {
        "id": "0DtB7CpAwseZ"
      }
    },
    {
      "cell_type": "markdown",
      "source": [
        "Q2. Explain the difference between mutable and immutable data types with examples.\n",
        "\n",
        "ANS:-Mutable Data Types:\n",
        "\n",
        "These are data types whose content can be changed after they are created.\n",
        "When you modify a mutable object, you are changing the object in place. The memory address where the object is stored remains the same.\n",
        "Examples of Mutable Data Types in Python:\n",
        "\n",
        "Lists: You can add, remove, or change elements in a list.\n",
        "\n",
        "    my_list = [1, 2, 3]\n",
        "    my_list.append(4)\n",
        "    print(my_list) # Output: [1, 2, 3, 4]\n",
        "Here, the append() method modified the original my_list.\n",
        "\n",
        "Immutable Data Types:\n",
        "\n",
        "These are data types whose content cannot be changed after they are created.\n",
        "If you try to modify an immutable object, you will actually be creating a new object with the desired changes. The original object remains unchanged, and the variable is then made to refer to the new object in a different memory location.\n",
        "\n",
        "Examples of Immutable Data Types in Python:\n",
        "\n",
        "Strings: You cannot change individual characters in a string. String operations like concatenation or replacement create new strings.\n",
        "\n",
        "    my_string = \"hello\"\n",
        "    # my_string[0] = \"H\" # This would raise a TypeError\n",
        "    new_string = my_string.replace(\"h\", \"H\")\n",
        "    print(my_string)    # Output: hello (original string is unchanged)\n",
        "    print(new_string)   # Output: Hello (a new string is created)\n",
        "\n",
        "KEY DIFFERENCE\n",
        "\n",
        "*Mutable Data Types:\n",
        "\n",
        ".Can be changed after creation — values can be modified.\n",
        "\n",
        ".Stored as reference — changes affect the original object.\n",
        "\n",
        ".Memory address remains same after modification.\n",
        "\n",
        ".Examples: list, dict, set\n",
        "\n",
        "*Immutable Data Types:\n",
        "\n",
        ".Cannot be changed after creation — any change creates a new object.\n",
        "\n",
        ".Stored as value — original data stays the same.\n",
        "\n",
        ".Memory address changes if modified (new object created).\n",
        "\n",
        ".Examples: int, float, str, tuple\n"
      ],
      "metadata": {
        "id": "YJAKx_nrxYV-"
      }
    },
    {
      "cell_type": "markdown",
      "source": [
        "Q3. What are the main differences between lists and tuples in Python?\n",
        "\n",
        "Ans:- The Difference between list and tuple in python are\n",
        "\n",
        "Mutability:\n",
        "Lists are mutable, meaning their elements can be changed after creation. Tuples are immutable; their elements cannot be modified once created.\n",
        "\n",
        "Syntax:\n",
        "Lists are defined using square brackets [], while tuples are defined using parentheses ().\n",
        "\n",
        "Performance:\n",
        "Tuples generally offer better performance than lists, especially in terms of iteration, because they are immutable and their size is fixed.\n",
        "\n",
        "Methods:\n",
        "Lists have a wider range of built-in methods (like append, insert, remove) due to their mutability. Tuples have fewer built-in methods, primarily focused on accessing elements (like count and index).\n",
        "\n",
        "Use Cases:\n",
        "Lists are suitable for situations where data needs to be modified, such as storing user inputs or managing dynamic collections. Tuples are ideal for representing fixed, unchanging data, like coordinates or database records.\n"
      ],
      "metadata": {
        "id": "v8CDuIbE1sdV"
      }
    },
    {
      "cell_type": "markdown",
      "source": [
        "Q4. Describe how dictionaries store data.\n",
        "\n",
        "Ans:-Dictionaries use a data structure called a hash table to store and access elements. When a key is added, Python computes its hash value, which determines where the data will be placed in memory. This hashing process enables fast lookups, even in large datasets.\n",
        "\n",
        "Keys in dictionaries must be unique and immutable types, such as strings, numbers, or tuples. Values, however, can be of any data type and may be repeated.\n",
        "\n",
        "Dictionaries are also mutable, meaning their contents can be changed after creation — you can add, update, or delete key-value pairs easily. As of Python 3.7+, dictionaries preserve the insertion order of items.\n",
        "\n",
        "Overall, dictionaries are highly efficient and widely used for tasks involving structured, labeled, or mapped data, such as storing user profiles, JSON-like data, or configuration settings.\n"
      ],
      "metadata": {
        "id": "-fLKtbwP4dPj"
      }
    },
    {
      "cell_type": "markdown",
      "source": [
        "Q5. Why might you use a set instead of a list in Python?\n",
        "\n",
        "Ans:-You Might Use a Set Instead of a List in Python – Key Reasons:\n",
        "\n",
        "1.No Duplicates Allowed:\n",
        "\n",
        "A set automatically removes duplicate values, unlike a list which allows them.\n",
        "\n",
        "Use sets when you need only unique items.\n",
        "\n",
        "Example: set([1, 2, 2, 3]) → {1, 2, 3}\n",
        "\n",
        "2.Faster Membership Testing:\n",
        "\n",
        "Checking if an item exists (in) is much faster in a set than in a list, especially for large datasets.\n",
        "\n",
        "3.Set Operations:\n",
        "\n",
        "Sets support powerful mathematical operations like union, intersection, and difference, useful for comparisons and filtering.\n",
        "\n",
        "4.Unordered Collection:\n",
        "\n",
        "If you don’t care about order, a set is ideal. Lists maintain order; sets do not."
      ],
      "metadata": {
        "id": "p-a7iSEC5kNv"
      }
    },
    {
      "cell_type": "markdown",
      "source": [
        "Q6. What is a string in Python, and how is it different from a list?\n",
        "\n",
        "Ans:-A string is a sequence of characters. A list a sequence of values which can be characters, integers or even another list (referred to as a nested list). A dictionary is a more general version of a list and is made up a set of keys and values where there is a mapping between a given key and its corresponding value.\n",
        "\n",
        "Key Differences Summarized:\n",
        "\n",
        "Content: Strings are sequences of characters, while lists are sequences of any type of value.\n",
        "\n",
        "Mutability: Strings are immutable (cannot be changed after creation), whereas lists are mutable (can be changed after creation).\n",
        "\n",
        "Syntax: Strings use quotes ('' or \"\"), while lists use square brackets ([]).\n",
        "\n",
        "Purpose: Strings are for text representation; lists are for collections of diverse items.\n"
      ],
      "metadata": {
        "id": "AGFPbfbY6oT3"
      }
    },
    {
      "cell_type": "markdown",
      "source": [
        "Q7. How do tuples ensure data integrity in Python?\n",
        "\n",
        "Ans:-Tuples in Python ensure data integrity primarily because they are immutable. This means that once you create a tuple, you cannot change, add, or remove any of its elements.\n",
        "Think of it like this: if you have a set of values that are crucial and should never be altered throughout your program's execution, putting them into a tuple guarantees that they will remain exactly as they were initially defined.\n",
        "\n",
        "For example, if you're storing the coordinates of a fixed point, or a set of configuration parameters that shouldn't change, using a tuple ensures that these values stay constant. This predictability makes your code more robust and easier to understand, as you can always rely on the tuple's contents to be the same as when it was first created. In multi-threaded environments, this immutability also means that multiple parts of your program can safely read the tuple's data without worrying about another part simultaneously changing it, which helps prevent data corruption."
      ],
      "metadata": {
        "id": "Z9v0Aqkn8rg_"
      }
    },
    {
      "cell_type": "markdown",
      "source": [
        "Q8. What is a hash table, and how does it relate to dictionaries in Python\n",
        "\n",
        "Ans:-A hash table (also known as a hash map) is a data structure that implements an associative array, mapping keys to values. It uses a hash function to compute an index into an array of buckets or slots, from which the desired value can be found.\n",
        "\n",
        "Here's a breakdown of how it works:\n",
        "\n",
        "Key-Value Pairs: Like a dictionary, a hash table stores data as key-value pairs.\n",
        "\n",
        "Hash Function: When you want to store a key-value pair, the hash table takes the key and passes it through a special function called a hash function. This function converts the key into a numerical value (the hash code).\n",
        "\n",
        "How Hash Tables Relate to Dictionaries in Python\n",
        "In Python, dictionaries are implemented as hash tables. This is a fundamental aspect of their design and explains their performance characteristics.\n",
        "\n",
        "Here's the relationship:\n",
        "\n",
        "Underlying Structure: When you create a Python dictionary, Python internally uses a hash table to manage the storage and retrieval of your key-value pairs.\n",
        "\n",
        "Hashable Keys: For a Python object to be used as a dictionary key, it must be hashable. This means the object must have a hash value that does not change during its lifetime (i.e., it must be immutable) and it must be comparable to other objects.\n",
        "\n",
        "In summary, the efficiency and behavior of Python dictionaries are directly a result of their underlying implementation as hash tables, which leverage hash functions for rapid data access."
      ],
      "metadata": {
        "id": "P8s8duDy-CXf"
      }
    },
    {
      "cell_type": "markdown",
      "source": [
        "Q9. Can lists contain different data types in Python?\n",
        "\n",
        "Ans:-Yes, absolutely! One of Python's powerful features is the flexibility of its list data structure. Unlike arrays in some other programming languages that often require all elements to be of the same data type, Python lists are designed to be highly versatile.\n",
        "\n",
        "This means you can have a single list containing a mix of different data types simultaneously. For instance, a list could hold an integer, followed by a string, then a floating-point number, a boolean value, and even another list (creating a nested list) or a dictionary.\n",
        "\n",
        "For example: my_mixed_list = [10, \"hello\", 3.14, True, [1, 2], {\"key\": \"value\"}].\n",
        "\n",
        "This flexibility makes lists incredibly useful for organizing diverse collections of information within a single, ordered sequence, simplifying data management and manipulation in various programming scenarios."
      ],
      "metadata": {
        "id": "F1-b0JVl_Dul"
      }
    },
    {
      "cell_type": "markdown",
      "source": [
        "Q10. Explain why strings are immutable in Python.\n",
        "\n",
        "Ans:- Strings are immutable in Python for several key reasons:\n",
        "\n",
        "1.Performance Optimization: Python can optimize string operations because it knows strings won't change. For example, when you concatenate strings, Python doesn't modify the original string; it creates a new one. This can lead to more predictable performance.\n",
        "\n",
        "2.Thread Safety: In multi-threaded environments, immutable objects like strings are inherently thread-safe. Multiple threads can read the same string without the risk of one thread modifying it while another is reading, which could lead to data corruption.\n",
        "\n",
        "3.Hashability: Immutable objects can be \"hashed,\" meaning they can be assigned a unique integer value that remains constant. This makes them suitable for use as keys in dictionaries and elements in sets, which rely on hash values for efficient lookups. If strings were mutable, their hash value could change, breaking the integrity of these data structures.\n",
        "\n",
        "4.Security and Predictability: Immutability ensures that once a string is created, its content is fixed. This can be important for security (e.g., if a string represents a password or a file path) and generally makes code more predictable and easier to debug, as you don't have to worry about a string's value changing unexpectedly."
      ],
      "metadata": {
        "id": "q-hsLzwF_2UN"
      }
    },
    {
      "cell_type": "markdown",
      "source": [
        "Q11. What advantages do dictionaries offer over lists for certain tasks?\n",
        "\n",
        "Ans:- dictionaries are both useful data structures in Python, dictionaries offer distinct advantages over lists for certain tasks, primarily due to their key-value organization.\n",
        "\n",
        "Here are some key advantages of using dictionaries over lists:\n",
        "\n",
        "Fast Lookups (Accessing Data by Key):\n",
        "\n",
        "Dictionaries: Dictionaries use keys to access values. As we discussed, they are implemented using hash tables, which allows for very fast retrieval of a value associated with a specific key. This lookup is typically done in nearly constant time (O(1)), regardless of how large the dictionary is.\n",
        "\n",
        "Advantage: If you need to frequently retrieve data based on a specific identifier or label (like a user ID, a product name, or a configuration setting), dictionaries are significantly more efficient than lists.\n",
        "\n",
        "Associative Data Storage:\n",
        "\n",
        "Dictionaries: Dictionaries are designed to store data as key-value pairs, representing a clear association between a key and its corresponding value. This makes them ideal for representing structured data where each piece of information has a meaningful label.\n",
        "\n",
        "Advantage: Dictionaries make your code more readable and maintainable when dealing with data that has clear attributes or properties. You access data by a descriptive key (person['name']) rather than an arbitrary index (person[0]).\n",
        "\n",
        "Modeling Real-World Objects/Entities:\n",
        "\n",
        "Dictionaries: Are excellent for representing objects or entities with multiple attributes. For example, a dictionary can represent a person with keys like \"name\", \"age\", and \"city\".\n",
        "\n",
        "Advantage: Dictionaries provide a natural and intuitive way to model objects and their properties in your code."
      ],
      "metadata": {
        "id": "6wFG-uDAAfXS"
      }
    },
    {
      "cell_type": "markdown",
      "source": [
        "Q12. Describe a scenario where using a tuple would be preferable over a list\n",
        "\n",
        "Ans:-Using a tuple would be preferable over a list in scenarios where you have a collection of items that should not change after they are created, and where their order is significant.\n",
        "\n",
        "Scenario Example: Representing a Geographic Coordinate\n",
        "\n",
        "Imagine you're developing an application that deals with geographic locations. A specific point on Earth can be precisely defined by its latitude and longitude.\n",
        "\n",
        "Using a Tuple: (latitude, longitude) e.g., (34.0522, -118.2437) (for Los Angeles).\n",
        "\n",
        "Why preferable: A geographic coordinate is a fixed, unchanging value. Once you define a point, its latitude and longitude shouldn't accidentally be altered. If you used a list, [34.0522, -118.2437], there's a risk that later in your code, an operation might inadvertently change one of the values, leading to an incorrect location. A tuple's immutability guarantees that (34.0522, -118.2437) will always remain exactly that point.\n",
        "\n",
        "When a List might be less suitable here: If you used a list like coordinates = [34.0522, -118.2437], and later in your code you accidentally did coordinates[0] = 0.0, your \"Los Angeles\" coordinate would suddenly be incorrect without any explicit intention to change the city's location.\n",
        "\n",
        "In essence, tuples are ideal for fixed collections of related data that represent a single, unchangeable entity, providing data integrity and preventing unintended modifications"
      ],
      "metadata": {
        "id": "WhEVWvsvDa9O"
      }
    },
    {
      "cell_type": "markdown",
      "source": [
        "Q13. How do sets handle duplicate values in Python?\n",
        "\n",
        "Ans:-Sets in Python are designed specifically to handle duplicate values in a very straightforward way: they automatically eliminate them.\n",
        "\n",
        "Here's how it works:\n",
        "\n",
        "Unique Elements Only: A set, by definition, is an unordered collection of unique elements. When you try to add an element to a set that is already present, the set simply ignores the new addition. It doesn't raise an error; it just ensures that each element appears only once.\n",
        "\n",
        "Creation from Iterables:\n",
        "\n",
        "If you create a set from a list or any other iterable that contains duplicate values, the set constructor will automatically filter out the duplicates, leaving only the unique elements.\n",
        "\n",
        "    my_list_with_duplicates = [1, 2, 2, 3, 4, 4, 5]\n",
        "    my_set = set(my_list_with_duplicates)\n",
        "    # my_set will be {1, 2, 3, 4, 5} (order is not guaranteed)\n",
        "\n",
        "Adding Elements:\n",
        "\n",
        "If you use the add() method to insert an element that already exists in the set, the set remains unchanged.\n",
        "\n",
        "    my_set = {1, 2, 3}\n",
        "    my_set.add(2)\n",
        "    # my_set is still {1, 2, 3}\n",
        "    my_set.add(4)\n",
        "    # my_set is now {1, 2, 3, 4}\n",
        "\n",
        "This characteristic makes sets incredibly useful for tasks like:\n",
        "\n",
        "Removing duplicates from a list: Convert the list to a set, then convert it back to a list if needed.\n",
        "\n",
        "Checking for uniqueness: If the length of a set created from an iterable is equal to the length of the original iterable, then all elements in the original iterable were unique.\n"
      ],
      "metadata": {
        "id": "5JCq8OSxD8MP"
      }
    },
    {
      "cell_type": "markdown",
      "source": [
        "Q14. How does the \"in\" keyword work differently for lists and dictionaries?\n",
        "\n",
        "Ans:-The \"in\" keyword in Python is used to check for membership within a collection. While its general purpose is the same (to determine if an item is present), how it operates internally and what it checks for differs significantly between lists and dictionaries.\n",
        "\n",
        "For Lists\n",
        "When you use \"in\" with a list, it checks if a specified value exists as one of the elements within the list.\n",
        "\n",
        "*Mechanism: Python iterates through the elements of the list, comparing each element to the value you are searching for.\n",
        "\n",
        "*Time Complexity: In the worst-case scenario (the item is at the end or not present), it has to check every element. Therefore, the average time complexity for searching in a list is O(n) (linear time), where 'n' is the number of elements in the list.\n",
        "\n",
        "For Dictionaries\n",
        "When you use \"in\" with a dictionary, it checks if a specified key exists among the dictionary's keys. It does not directly check for values.\n",
        "\n",
        "*Mechanism: Python leverages the dictionary's underlying hash table implementation. It takes the item you're searching for, hashes it, and quickly checks if that hash corresponds to an existing key in the dictionary.\n",
        "\n",
        "*Time Complexity: Due to the hash table, checking for key existence in a dictionary is typically very fast, with an average time complexity of O(1) (constant time). This means the time taken to check doesn't significantly increase with the size of the dictionary."
      ],
      "metadata": {
        "id": "A8Vr7cfDFKuV"
      }
    },
    {
      "cell_type": "markdown",
      "source": [
        "Q15. Can you modify the elements of a tuple? Explain why or why not.\n",
        "\n",
        "Ans:-No, you cannot modify the elements of a tuple after it has been created.\n",
        "\n",
        "The reason for this is that tuples are an immutable data type in Python.\n",
        "\n",
        "Here's why they are immutable and what that means:\n",
        "\n",
        "Immutability Definition: Immutable objects, once created, cannot be changed in place. Their content is fixed for their entire lifetime.\n",
        "Creation of New Objects: If you perform an operation that seems like it's modifying a tuple (like concatenation or slicing), Python actually creates a new tuple with the desired changes, leaving the original tuple untouched.\n",
        "Why are they immutable?\n",
        "\n",
        "Data Integrity: Immutability helps ensure that data stored in a tuple remains constant and is not accidentally altered. This is useful for representing fixed collections of related data (like coordinates, database records, or constant configuration values).\n",
        "\n",
        "Hashability: Immutable objects can be \"hashed,\" meaning they can be assigned a unique, unchanging integer value. This allows tuples (if they contain only immutable elements) to be used as keys in dictionaries and elements in sets, which require their contents to be hashable for efficient lookups. Mutable objects like lists and dictionaries cannot be hashed, and therefore cannot be used as dictionary keys or set elements.\n",
        "\n",
        "Thread Safety: In multi-threaded programs, immutable data types are inherently thread-safe because multiple threads can read the data without the risk of one thread modifying it while another is reading.\n",
        "\n",
        "In Conclusion So, the key takeaway is that the immutability of tuples is a deliberate design choice in Python that provides benefits related to data integrity, hashability, and thread safety.\n"
      ],
      "metadata": {
        "id": "0srjpsdIGKLd"
      }
    },
    {
      "cell_type": "markdown",
      "source": [
        "Q16. What is a nested dictionary, and give an example of its use case?\n",
        "\n",
        "Ans:-A nested dictionary is simply a dictionary where one or more of the values are themselves dictionaries. This allows you to create a hierarchical or multi-level structure for your data.\n",
        "\n",
        "Think of it as a dictionary that contains other dictionaries inside of it.\n",
        "\n",
        "Definition: A dictionary whose values are also dictionaries.\n",
        "\n",
        "Structure (Conceptual):\n",
        "\n",
        "outer_dict = {\n",
        "    key1: {\n",
        "        nested_key1: nested_value1,\n",
        "        nested_key2: nested_value2\n",
        "    },\n",
        "    key2: {\n",
        "        another_nested_key1: another_nested_value1\n",
        "    }\n",
        "}\n",
        "Example Use Case:\n",
        "\n",
        "A very common use case for nested dictionaries is to represent structured data, such as:\n",
        "\n",
        "JSON-like data: Many APIs and data formats use nested structures similar to dictionaries and lists in Python.\n",
        "Configuration settings: You might have different sections of settings, where each section is a dictionary within a main configuration dictionary.\n",
        "Hierarchical data: Representing things like user profiles, product catalogs with variations, or geographical data (countries containing states/provinces, which contain cities).\n",
        "Let's take the example of representing information about multiple users:\n",
        "\n",
        "You could have a main dictionary where each key is a user ID, and the value associated with that user ID is another dictionary containing the user's details (name, age, city, etc.).\n",
        "\n",
        "    user_data = {\n",
        "    \"user_101\": {\n",
        "        \"name\": \"Alice\",\n",
        "        \"age\": 30,\n",
        "        \"city\": \"New York\"\n",
        "    },\n",
        "    \"user_102\": {\n",
        "        \"name\": \"Bob\",\n",
        "        \"age\": 25,\n",
        "        \"city\": \"Los Angeles\"\n",
        "    },\n",
        "    \"user_103\": {\n",
        "        \"name\": \"Charlie\",\n",
        "        \"age\": 35,\n",
        "        \"city\": \"Chicago\"\n",
        "    }\n",
        "}\n",
        "In this example:\n",
        "\n",
        "user_data is the outer dictionary.\n",
        "\"user_101\", \"user_102\", and \"user_103\" are the keys of the outer dictionary.\n",
        "The values associated with these keys are themselves dictionaries (the nested dictionaries), each containing the details for a specific user.\n",
        "\n"
      ],
      "metadata": {
        "id": "lwG91ObBHBo2"
      }
    },
    {
      "cell_type": "markdown",
      "source": [
        "Q17. Describe the time complexity of accessing elements in a dictionary.\n",
        "\n",
        "Ans:-Understanding time complexity helps you predict how the performance of an operation scales with the size of the data.\n",
        "\n",
        "For accessing elements in a Python dictionary using their key, the time complexity is typically:\n",
        "\n",
        "Average Case: O(1) (Constant Time)\n",
        "Worst Case: O(n) (Linear Time)\n",
        "Let me break that down:\n",
        "\n",
        "Average Case (O(1) - Constant Time):\n",
        "\n",
        "In the vast majority of cases, accessing an element in a dictionary by its key is extremely fast. This is because, as we discussed, dictionaries are implemented using a hash table.\n",
        "\n",
        "When you access a key (e.g., my_dict[\"some_key\"]), Python calculates the hash value of \"some_key\". This hash value is used to quickly jump directly to the memory location where the corresponding value is stored in the hash table.\n",
        "\n",
        "Worst Case (O(n) - Linear Time):\n",
        "\n",
        "The worst case occurs in situations called hash collisions. A hash collision happens when the hash function calculates the same hash value for two different keys. While hash functions are designed to minimize collisions, they can still happen."
      ],
      "metadata": {
        "id": "0v5Hi4o3Ihej"
      }
    },
    {
      "cell_type": "markdown",
      "source": [
        "Q18. In what situations are lists preferred over dictionaries?\n",
        "\n",
        "Ans:-There are several situations where lists are preferred Over dictionaries\n",
        "\n",
        "1.Ordered Collections (Maintaining Insertion Order - before Python 3.7):\n",
        "\n",
        "*Lists: Explicitly maintain the order in which elements are inserted. If the sequence or position of elements is important, lists are the way to go.\n",
        "*Dictionaries: In Python versions prior to 3.7, dictionaries did not guarantee insertion order. While they do in 3.7+, if you need a data structure where the numerical index and sequence are fundamental to the data's meaning, a list is still more intuitive.\n",
        "Preference: Use lists when the order of items matters and you need to access them by their numerical index (position).\n",
        "\n",
        "2.Accessing Elements by Index (Numerical Position):\n",
        "\n",
        "Lists: Designed for quick access to elements based on their position (index).\n",
        "Dictionaries: Access is based on keys, not numerical position. While you can get all keys or values and then access them by index, it's not the primary way to interact with a dictionary.\n",
        "Preference: Use lists when you frequently need to access elements based on their position in a sequence (e.g., the first item, the last item, the item at a specific numerical index).\n",
        "\n",
        "3.Collections with Duplicate Elements:\n",
        "\n",
        "Lists: Can contain duplicate elements.\n",
        "Dictionaries: Keys must be unique. If you have data points that are identical, you cannot store them as separate key-value pairs if the identical data is the key.\n",
        "Preference: Use lists when your collection might contain duplicate items and you need to preserve all of them.\n",
        "\n",
        "4.Implementing Stacks and Queues:\n",
        "\n",
        "Lists: Can be easily used to implement stack and queue data structures due to their ordered nature and methods like append() and pop().\n",
        "Dictionaries: Not suitable for these sequential access patterns."
      ],
      "metadata": {
        "id": "SPXaRCK9JOE-"
      }
    },
    {
      "cell_type": "markdown",
      "source": [
        "Q19. Why are dictionaries considered unordered, and how does that affect data retrieval?\n",
        "\n",
        "Ans:-Dictionaries Were Considered Unordered (Historically, before Python 3.7):\n",
        "\n",
        "In Python versions prior to 3.7, dictionaries were fundamentally implemented using hash tables in a way that did not preserve the insertion order of the key-value pairs.\n",
        "\n",
        "Here's the key reason:\n",
        "\n",
        "*Hash Table Implementation: The internal hash table structure used to store dictionary items was designed for efficient key lookups (O(1) on average), not for maintaining order. When a key-value pair was added, its position in the hash table was determined by the hash value of the key, not by the order in which it was inserted. Collisions and the resizing of the hash table could further change the internal arrangement of elements.\n",
        "\n",
        "How Being Unordered Affected Data Retrieval (Historically):\n",
        "\n",
        "Since the order was not predictable or guaranteed, you could not rely on accessing dictionary elements by their numerical position (index) like you can with lists or tuples. Attempting to do so would result in an error.\n",
        "\n",
        "Data retrieval was always done using the key. The efficiency of retrieval was based on the hash table lookup (O(1) on average), not on the position of the element.\n",
        "\n",
        "The Change in Python 3.7+:\n",
        "\n",
        "Starting with Python 3.7 (and as an implementation detail in CPython 3.6), dictionaries officially maintain insertion order.\n",
        "\n",
        "How Insertion Order Affects Data Retrieval (in Python 3.7+):\n",
        "\n",
        "While dictionaries now maintain insertion order, you still cannot access elements using a numerical index like my_dict[0]. Dictionary access remains strictly key-based (my_dict['some_key']).\n",
        "\n",
        "The impact of insertion order is primarily on:\n",
        "\n",
        "Iteration: When you loop through a dictionary's keys, values, or items, they will come out in the order they were inserted."
      ],
      "metadata": {
        "id": "qWd3XT9gLbD8"
      }
    },
    {
      "cell_type": "markdown",
      "source": [
        "Q20. Explain the difference between a list and a dictionary in terms of data retrieval.\n",
        "\n",
        "Ans:-The primary difference lies in how you identify the element you want to retrieve:\n",
        "\n",
        "Lists: Data Retrieval by Index (Position)\n",
        "\n",
        "How it works: You retrieve elements from a list using their numerical index. Indices start at 0 for the first element, 1 for the second, and so on. You use square brackets [] with the index to access an element.\n",
        "Example:\n",
        "    my_list = [\"apple\", \"banana\", \"cherry\"]\n",
        "    first_item = my_list[0]  # Retrieves \"apple\"\n",
        "    second_item = my_list[1] # Retrieves \"banana\"\n",
        "\n",
        ".Time Complexity: Accessing an element by its index in a list is typically very fast, with an average time complexity of O(1) (Constant Time). Python knows exactly where the element is located in memory based on its index.\n",
        "\n",
        ".Use Case: Ideal when the order of elements is important and you need to access items based on their position in the sequence.\n",
        "Dictionaries: Data Retrieval by Key (Label)\n",
        "\n",
        "How it works: You retrieve values from a dictionary using their unique key. You use square brackets [] with the key to access the associated value.\n",
        "\n",
        "Example:\n",
        "    my_dict = {\"name\": \"Alice\", \"age\": 30, \"city\": \"Paris\"}\n",
        "    person_name = my_dict[\"name\"] # Retrieves \"Alice\"\n",
        "    person_age = my_dict[\"age\"]   # Retrieves 30\n",
        "\n",
        ".Time Complexity: Accessing a value by its key in a dictionary is also typically very fast, with an Average Case of O(1) (Constant Time) due to the underlying hash table implementation. As discussed before, the worst case can be O(n) in rare collision scenarios, but O(1) is the norm.\n",
        "\n",
        ".Use Case: Ideal when you need to access data based on a meaningful label or identifier, and the order of elements is not the primary concern (though insertion order is maintained in Python 3.7+)."
      ],
      "metadata": {
        "id": "eLwkS4PIMYCP"
      }
    }
  ],
  "metadata": {
    "colab": {
      "provenance": [],
      "include_colab_link": true
    },
    "kernelspec": {
      "display_name": "Python 3",
      "name": "python3"
    }
  },
  "nbformat": 4,
  "nbformat_minor": 0
}